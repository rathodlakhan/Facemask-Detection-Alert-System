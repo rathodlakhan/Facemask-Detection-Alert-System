{
  "nbformat": 4,
  "nbformat_minor": 0,
  "metadata": {
    "colab": {
      "name": "Face Mask Detection using CNN.ipynb",
      "provenance": [],
      "collapsed_sections": []
    },
    "kernelspec": {
      "name": "python3",
      "display_name": "Python 3"
    }
  },
  "cells": [
    {
      "cell_type": "code",
      "metadata": {
        "colab": {
          "base_uri": "https://localhost:8080/"
        },
        "id": "x6OBVOqCG2dm",
        "outputId": "97d232fa-b3d5-427d-e4a7-1da8747d0499"
      },
      "source": [
        "# Configuration related preprocessing step before mounting the drive\n",
        "!apt-get install -y -qq software-properties-common python-software-properties module-init-tools\n",
        "!add-apt-repository -y ppa:alessandro-strada/ppa 2>&1 > /dev/null\n",
        "!apt-get update -qq 2>&1 > /dev/null\n",
        "!apt-get -y install -qq google-drive-ocamlfuse fuse\n",
        "from google.colab import auth\n",
        "auth.authenticate_user()\n",
        "from oauth2client.client import GoogleCredentials\n",
        "creds = GoogleCredentials.get_application_default()\n",
        "import getpass\n",
        "!google-drive-ocamlfuse -headless -id={creds.client_id} -secret={creds.client_secret} < /dev/null 2>&1 | grep URL\n",
        "vcode = getpass.getpass()\n",
        "!echo {vcode} | google-drive-ocamlfuse -headless -id={creds.client_id} -secret={creds.client_secret}"
      ],
      "execution_count": null,
      "outputs": [
        {
          "output_type": "stream",
          "text": [
            "E: Package 'python-software-properties' has no installation candidate\n",
            "Selecting previously unselected package google-drive-ocamlfuse.\n",
            "(Reading database ... 145480 files and directories currently installed.)\n",
            "Preparing to unpack .../google-drive-ocamlfuse_0.7.23-0ubuntu1~ubuntu18.04.1_amd64.deb ...\n",
            "Unpacking google-drive-ocamlfuse (0.7.23-0ubuntu1~ubuntu18.04.1) ...\n",
            "Setting up google-drive-ocamlfuse (0.7.23-0ubuntu1~ubuntu18.04.1) ...\n",
            "Processing triggers for man-db (2.8.3-2ubuntu0.1) ...\n",
            "Please, open the following URL in a web browser: https://accounts.google.com/o/oauth2/auth?client_id=32555940559.apps.googleusercontent.com&redirect_uri=urn%3Aietf%3Awg%3Aoauth%3A2.0%3Aoob&scope=https%3A%2F%2Fwww.googleapis.com%2Fauth%2Fdrive&response_type=code&access_type=offline&approval_prompt=force\n",
            "··········\n",
            "Please, open the following URL in a web browser: https://accounts.google.com/o/oauth2/auth?client_id=32555940559.apps.googleusercontent.com&redirect_uri=urn%3Aietf%3Awg%3Aoauth%3A2.0%3Aoob&scope=https%3A%2F%2Fwww.googleapis.com%2Fauth%2Fdrive&response_type=code&access_type=offline&approval_prompt=force\n",
            "Please enter the verification code: Access token retrieved correctly.\n"
          ],
          "name": "stdout"
        }
      ]
    },
    {
      "cell_type": "code",
      "metadata": {
        "colab": {
          "base_uri": "https://localhost:8080/"
        },
        "id": "uNq5dAjxHJGJ",
        "outputId": "5c1a2a20-c677-4b75-9ba9-d542065792e9"
      },
      "source": [
        "#Mount the google drive\n",
        "from google.colab import drive\n",
        "drive.mount('/content/drive')"
      ],
      "execution_count": null,
      "outputs": [
        {
          "output_type": "stream",
          "text": [
            "Mounted at /content/drive\n"
          ],
          "name": "stdout"
        }
      ]
    },
    {
      "cell_type": "markdown",
      "metadata": {
        "id": "HoRp_lFpH79L"
      },
      "source": [
        "**Data Processing**"
      ]
    },
    {
      "cell_type": "code",
      "metadata": {
        "id": "V7_ZsBeAH-jD",
        "colab": {
          "base_uri": "https://localhost:8080/"
        },
        "outputId": "6b1fe6e2-8a4e-4628-a029-a3ceb5bef0d8"
      },
      "source": [
        "# Import Necessary Libraries\n",
        "import os\n",
        "\n",
        "# Set Directory path for Dataset\n",
        "os.chdir(\"/content/drive/My Drive/My Projects/Face Mask Detection using CNN\")\n",
        "Dataset='Dataset'\n",
        "Data_Dir=os.listdir(Dataset)  # used listdir function of the operating system pkg to list the directories contained inside the \"Dataset\" folder\n",
        "print(Data_Dir)"
      ],
      "execution_count": null,
      "outputs": [
        {
          "output_type": "stream",
          "text": [
            "['with mask', 'without mask']\n"
          ],
          "name": "stdout"
        }
      ]
    },
    {
      "cell_type": "code",
      "metadata": {
        "id": "Gl6qjSuCre2P"
      },
      "source": [
        "# Import necessary libraries\n",
        "import cv2\n",
        "import numpy as np\n",
        "from tensorflow.keras.utils import to_categorical   # keras pckgs are used to convert text labels into One Hot Encoded form , dividing a data into train and test respectively\n",
        "from sklearn.preprocessing import LabelBinarizer    # importing label binarizer from sklearn preprocessing pkg \n",
        "from sklearn.model_selection import train_test_split\n",
        "\n",
        "img_rows, img_cols = 112, 112      # dimensions of a single img given as 112x112 pixel, th two variables holds these values of the images\n",
        "\n",
        "images = []         # store all the images after performing gray scaling and resizing\n",
        "labels = []         # contains labels corresponding to the classes of the image.eg., with mask or without mask\n",
        "\n",
        "# nested for loops\n",
        "for category in Data_Dir:   # picking up each class directory namely with mask and without mask fromm google drive location called as Data_Dir(which contains location of Dataset folder)\n",
        "    folder_path = os.path.join(Dataset, category)     # joining dataset folder with each with each individual mask and wihout mask directory using separator '/'\n",
        "    for img in os.listdir(folder_path):        # used to get the list of all image files in the specific directory\n",
        "        img_path = os.path.join(folder_path, img)\n",
        "        img=cv2.imread(img_path)       # reading that img using imread function\n",
        "\n",
        "        # try exceot block for Error Handling\n",
        "        try:\n",
        "            #Coverting the image into gray scale\n",
        "            grayscale_img=cv2.cvtColor(img,cv2.COLOR_BGR2GRAY)\n",
        "\n",
        "            #resizing the gray scaled image into size 112x112 in order to keep size of the images consistent           \n",
        "            resized_img=cv2.resize(grayscale_img,(img_rows, img_cols))\n",
        "            images.append(resized_img)\n",
        "            labels.append(category)\n",
        "        # Exception Handling in case any error occurs\n",
        "        except Exception as e:\n",
        "            print('Exception:',e)\n",
        "\n",
        "images=np.array(images)/255.0      # normalizing an image by dividing it by no 255\n",
        "images=np.reshape(images,(images.shape[0],img_rows, img_cols,1))    # reshaping the img array without changing the data of image array  ,  we are reshapin because we wanr the images in a specific format\n",
        "\n",
        "# Perform one hot encoding on the labels since the label are in textual form\n",
        "lb = LabelBinarizer()              # creating object of label binarizer and naming it as \"lb\"\n",
        "labels = lb.fit_transform(labels)  # using fit_transform method to apply label binarizer on each label\n",
        "labels = to_categorical(labels)    # using to_categorical method to converts labels to One Hot Encoded form    \n",
        "labels = np.array(labels)          # finally converting it into an array using numpy's array function\n",
        "# these steps are required because deep learning models understand data in the form of vector/array\n",
        "\n",
        "\n",
        "(train_X, test_X, train_y, test_y) = train_test_split(images, labels, test_size=0.25, \n",
        "                                                      random_state=0)                       # using train_test_split function to divide our image data into training and test dataset\n",
        "# test data size here is 25% and rest 75% is training data\n"
      ],
      "execution_count": null,
      "outputs": []
    },
    {
      "cell_type": "markdown",
      "metadata": {
        "id": "CEKR5-r7yydP"
      },
      "source": [
        "**Build Convolution Neural Network(CNN) Classification Model**"
      ]
    },
    {
      "cell_type": "code",
      "metadata": {
        "colab": {
          "base_uri": "https://localhost:8080/"
        },
        "id": "iZ8ex33wy8HE",
        "outputId": "2e1ca538-7667-40d0-9514-42bc2155d83a"
      },
      "source": [
        "# Import Necessary Keras Libraries,  keras is using tensorflow as an backend engine\n",
        "# here I have imported CNN layers related libraries\n",
        "from keras.models import Sequential\n",
        "from keras.layers import Dense,Activation,Flatten,Dropout\n",
        "from keras.layers import Conv2D,MaxPooling2D\n",
        "\n",
        "# Every keras model is either built using sequential class(which represents a linear stack of layers) or the functional model class(which is more customisable)\n",
        "# we are using a simpler sequential model, since the CNN will be the linear stack of layer\n",
        "\n",
        "# Define model paramters\n",
        "num_classes = 2     # 2 classes which aree with mask and without mask\n",
        "batch_size = 32     # batchsize is a hyper parameter of gradient descent that controls the number of training samples to work through before the models internal parameters are updated\n",
        "\n",
        "# Build CNN model using Sequential API\n",
        "model=Sequential()\n",
        "\n",
        "# First layer group containing Convolution, Relu and MaxPooling layers\n",
        "model.add(Conv2D(64,(3,3),input_shape=(img_rows, img_cols, 1)))   # this layer is represented as conv 2d , 64 filters or feature detectors ,   kernel size is (3,3) which needs to be any odd number , numeric value 1 represents the channel type which is grayscale and hence kept as 1\n",
        "model.add(Activation('relu'))      # activation is done using relu\n",
        "model.add(MaxPooling2D(pool_size=(2,2)))   # maxpooling is used to progressively reduce the spatial size of the representation to reduce the amount of parameters and computation in the network,  maxpooling layer operates on each feature map independently\n",
        "\n",
        "# Second layer group containing Convolution, Relu and MaxPooling layers\n",
        "model.add(Conv2D(128,(3,3)))\n",
        "model.add(Activation('relu'))\n",
        "model.add(MaxPooling2D(pool_size=(2,2)))\n",
        "\n",
        "# Flatten and Dropout Layer to stack the output convolutions above as well as cater overfitting\n",
        "model.add(Flatten())\n",
        "model.add(Dropout(0.5))  # used to reduce the overfitting problem in neural network\n",
        "\n",
        "# Softmax Classifier\n",
        "model.add(Dense(64,activation='relu'))\n",
        "model.add(Dense(num_classes,activation='softmax'))  # used for multiclass classification problem\n",
        "\n",
        "print(model.summary())"
      ],
      "execution_count": null,
      "outputs": [
        {
          "output_type": "stream",
          "text": [
            "Model: \"sequential\"\n",
            "_________________________________________________________________\n",
            "Layer (type)                 Output Shape              Param #   \n",
            "=================================================================\n",
            "conv2d (Conv2D)              (None, 110, 110, 64)      640       \n",
            "_________________________________________________________________\n",
            "activation (Activation)      (None, 110, 110, 64)      0         \n",
            "_________________________________________________________________\n",
            "max_pooling2d (MaxPooling2D) (None, 55, 55, 64)        0         \n",
            "_________________________________________________________________\n",
            "conv2d_1 (Conv2D)            (None, 53, 53, 128)       73856     \n",
            "_________________________________________________________________\n",
            "activation_1 (Activation)    (None, 53, 53, 128)       0         \n",
            "_________________________________________________________________\n",
            "max_pooling2d_1 (MaxPooling2 (None, 26, 26, 128)       0         \n",
            "_________________________________________________________________\n",
            "flatten (Flatten)            (None, 86528)             0         \n",
            "_________________________________________________________________\n",
            "dropout (Dropout)            (None, 86528)             0         \n",
            "_________________________________________________________________\n",
            "dense (Dense)                (None, 64)                5537856   \n",
            "_________________________________________________________________\n",
            "dense_1 (Dense)              (None, 2)                 130       \n",
            "=================================================================\n",
            "Total params: 5,612,482\n",
            "Trainable params: 5,612,482\n",
            "Non-trainable params: 0\n",
            "_________________________________________________________________\n",
            "None\n"
          ],
          "name": "stdout"
        }
      ]
    },
    {
      "cell_type": "markdown",
      "metadata": {
        "id": "fHMy6q8a9zk8"
      },
      "source": [
        "**Plot the Model**"
      ]
    },
    {
      "cell_type": "code",
      "metadata": {
        "colab": {
          "base_uri": "https://localhost:8080/",
          "height": 1000
        },
        "id": "jFy2RMuU92gp",
        "outputId": "f950f120-d7c2-4b68-a175-3301f802c174"
      },
      "source": [
        "# Plot the model using plot_model library\n",
        "from keras.utils.vis_utils import plot_model\n",
        "plot_model(model, to_file='face_mask_detection_architecture.png')"
      ],
      "execution_count": null,
      "outputs": [
        {
          "output_type": "execute_result",
          "data": {
            "image/png": "[encoded data removed]",
            "text/plain": [
              "<IPython.core.display.Image object>"
            ]
          },
          "metadata": {
            "tags": []
          },
          "execution_count": 6
        }
      ]
    },
    {
      "cell_type": "markdown",
      "metadata": {
        "id": "Nal1CGrl-Lyk"
      },
      "source": [
        "**Train the Model**"
      ]
    },
    {
      "cell_type": "code",
      "metadata": {
        "colab": {
          "base_uri": "https://localhost:8080/"
        },
        "id": "THR1PDjn-Gjr",
        "outputId": "bc943b1f-5dc1-4fa6-837f-b927747c0499"
      },
      "source": [
        "from keras.optimizers import Adam\n",
        "\n",
        "epochs = 50\n",
        "\n",
        "model.compile(loss = 'categorical_crossentropy',\n",
        "              optimizer = Adam(lr=0.001),\n",
        "              metrics = ['accuracy'])\n",
        "\n",
        "fitted_model = model.fit(\n",
        "    train_X,\n",
        "    train_y,\n",
        "    epochs = epochs,\n",
        "    validation_split=0.25)"
      ],
      "execution_count": null,
      "outputs": [
        {
          "output_type": "stream",
          "text": [
            "Epoch 1/50\n",
            "25/25 [==============================] - 8s 45ms/step - loss: 1.1054 - accuracy: 0.4743 - val_loss: 0.6814 - val_accuracy: 0.6808\n",
            "Epoch 2/50\n",
            "25/25 [==============================] - 1s 25ms/step - loss: 0.6723 - accuracy: 0.6139 - val_loss: 0.6447 - val_accuracy: 0.6000\n",
            "Epoch 3/50\n",
            "25/25 [==============================] - 1s 25ms/step - loss: 0.6290 - accuracy: 0.6237 - val_loss: 0.5342 - val_accuracy: 0.7077\n",
            "Epoch 4/50\n",
            "25/25 [==============================] - 1s 25ms/step - loss: 0.5328 - accuracy: 0.7246 - val_loss: 0.3663 - val_accuracy: 0.8308\n",
            "Epoch 5/50\n",
            "25/25 [==============================] - 1s 26ms/step - loss: 0.3578 - accuracy: 0.8544 - val_loss: 0.2576 - val_accuracy: 0.9346\n",
            "Epoch 6/50\n",
            "25/25 [==============================] - 1s 25ms/step - loss: 0.2932 - accuracy: 0.8880 - val_loss: 0.2793 - val_accuracy: 0.8769\n",
            "Epoch 7/50\n",
            "25/25 [==============================] - 1s 25ms/step - loss: 0.2316 - accuracy: 0.9120 - val_loss: 0.1985 - val_accuracy: 0.9192\n",
            "Epoch 8/50\n",
            "25/25 [==============================] - 1s 25ms/step - loss: 0.2252 - accuracy: 0.9027 - val_loss: 0.1671 - val_accuracy: 0.9269\n",
            "Epoch 9/50\n",
            "25/25 [==============================] - 1s 25ms/step - loss: 0.1716 - accuracy: 0.9331 - val_loss: 0.1997 - val_accuracy: 0.9346\n",
            "Epoch 10/50\n",
            "25/25 [==============================] - 1s 30ms/step - loss: 0.1587 - accuracy: 0.9409 - val_loss: 0.1371 - val_accuracy: 0.9538\n",
            "Epoch 11/50\n",
            "25/25 [==============================] - 1s 25ms/step - loss: 0.1065 - accuracy: 0.9684 - val_loss: 0.1173 - val_accuracy: 0.9615\n",
            "Epoch 12/50\n",
            "25/25 [==============================] - 1s 25ms/step - loss: 0.0793 - accuracy: 0.9721 - val_loss: 0.1150 - val_accuracy: 0.9577\n",
            "Epoch 13/50\n",
            "25/25 [==============================] - 1s 26ms/step - loss: 0.0642 - accuracy: 0.9843 - val_loss: 0.1168 - val_accuracy: 0.9731\n",
            "Epoch 14/50\n",
            "25/25 [==============================] - 1s 25ms/step - loss: 0.0373 - accuracy: 0.9916 - val_loss: 0.1120 - val_accuracy: 0.9577\n",
            "Epoch 15/50\n",
            "25/25 [==============================] - 1s 25ms/step - loss: 0.0301 - accuracy: 0.9929 - val_loss: 0.1793 - val_accuracy: 0.9538\n",
            "Epoch 16/50\n",
            "25/25 [==============================] - 1s 26ms/step - loss: 0.0726 - accuracy: 0.9773 - val_loss: 0.1179 - val_accuracy: 0.9615\n",
            "Epoch 17/50\n",
            "25/25 [==============================] - 1s 25ms/step - loss: 0.0285 - accuracy: 0.9916 - val_loss: 0.1455 - val_accuracy: 0.9654\n",
            "Epoch 18/50\n",
            "25/25 [==============================] - 1s 25ms/step - loss: 0.0345 - accuracy: 0.9898 - val_loss: 0.1114 - val_accuracy: 0.9538\n",
            "Epoch 19/50\n",
            "25/25 [==============================] - 1s 25ms/step - loss: 0.0226 - accuracy: 0.9974 - val_loss: 0.1076 - val_accuracy: 0.9654\n",
            "Epoch 20/50\n",
            "25/25 [==============================] - 1s 25ms/step - loss: 0.0207 - accuracy: 0.9948 - val_loss: 0.1429 - val_accuracy: 0.9615\n",
            "Epoch 21/50\n",
            "25/25 [==============================] - 1s 25ms/step - loss: 0.0524 - accuracy: 0.9839 - val_loss: 0.1376 - val_accuracy: 0.9577\n",
            "Epoch 22/50\n",
            "25/25 [==============================] - 1s 25ms/step - loss: 0.0248 - accuracy: 0.9897 - val_loss: 0.1037 - val_accuracy: 0.9654\n",
            "Epoch 23/50\n",
            "25/25 [==============================] - 1s 25ms/step - loss: 0.0166 - accuracy: 0.9954 - val_loss: 0.1306 - val_accuracy: 0.9615\n",
            "Epoch 24/50\n",
            "25/25 [==============================] - 1s 26ms/step - loss: 0.0146 - accuracy: 0.9966 - val_loss: 0.1113 - val_accuracy: 0.9692\n",
            "Epoch 25/50\n",
            "25/25 [==============================] - 1s 25ms/step - loss: 0.0132 - accuracy: 0.9943 - val_loss: 0.1087 - val_accuracy: 0.9615\n",
            "Epoch 26/50\n",
            "25/25 [==============================] - 1s 25ms/step - loss: 0.0085 - accuracy: 0.9987 - val_loss: 0.1184 - val_accuracy: 0.9654\n",
            "Epoch 27/50\n",
            "25/25 [==============================] - 1s 26ms/step - loss: 0.0086 - accuracy: 0.9984 - val_loss: 0.1556 - val_accuracy: 0.9654\n",
            "Epoch 28/50\n",
            "25/25 [==============================] - 1s 26ms/step - loss: 0.0090 - accuracy: 0.9975 - val_loss: 0.1620 - val_accuracy: 0.9577\n",
            "Epoch 29/50\n",
            "25/25 [==============================] - 1s 25ms/step - loss: 0.0262 - accuracy: 0.9890 - val_loss: 0.1125 - val_accuracy: 0.9577\n",
            "Epoch 30/50\n",
            "25/25 [==============================] - 1s 25ms/step - loss: 0.0105 - accuracy: 0.9990 - val_loss: 0.1400 - val_accuracy: 0.9615\n",
            "Epoch 31/50\n",
            "25/25 [==============================] - 1s 25ms/step - loss: 0.0203 - accuracy: 0.9949 - val_loss: 0.1278 - val_accuracy: 0.9577\n",
            "Epoch 32/50\n",
            "25/25 [==============================] - 1s 25ms/step - loss: 0.0180 - accuracy: 0.9911 - val_loss: 0.1454 - val_accuracy: 0.9615\n",
            "Epoch 33/50\n",
            "25/25 [==============================] - 1s 25ms/step - loss: 0.0154 - accuracy: 0.9961 - val_loss: 0.1430 - val_accuracy: 0.9500\n",
            "Epoch 34/50\n",
            "25/25 [==============================] - 1s 25ms/step - loss: 0.0204 - accuracy: 0.9950 - val_loss: 0.1168 - val_accuracy: 0.9577\n",
            "Epoch 35/50\n",
            "25/25 [==============================] - 1s 25ms/step - loss: 0.0080 - accuracy: 0.9989 - val_loss: 0.1240 - val_accuracy: 0.9615\n",
            "Epoch 36/50\n",
            "25/25 [==============================] - 1s 25ms/step - loss: 0.0128 - accuracy: 0.9945 - val_loss: 0.1221 - val_accuracy: 0.9577\n",
            "Epoch 37/50\n",
            "25/25 [==============================] - 1s 25ms/step - loss: 0.0048 - accuracy: 0.9980 - val_loss: 0.1488 - val_accuracy: 0.9615\n",
            "Epoch 38/50\n",
            "25/25 [==============================] - 1s 25ms/step - loss: 0.0097 - accuracy: 0.9980 - val_loss: 0.1548 - val_accuracy: 0.9692\n",
            "Epoch 39/50\n",
            "25/25 [==============================] - 1s 25ms/step - loss: 0.0039 - accuracy: 0.9989 - val_loss: 0.1421 - val_accuracy: 0.9577\n",
            "Epoch 40/50\n",
            "25/25 [==============================] - 1s 25ms/step - loss: 0.0152 - accuracy: 0.9962 - val_loss: 0.1291 - val_accuracy: 0.9654\n",
            "Epoch 41/50\n",
            "25/25 [==============================] - 1s 25ms/step - loss: 0.0132 - accuracy: 0.9963 - val_loss: 0.1306 - val_accuracy: 0.9577\n",
            "Epoch 42/50\n",
            "25/25 [==============================] - 1s 25ms/step - loss: 0.0045 - accuracy: 0.9971 - val_loss: 0.1316 - val_accuracy: 0.9615\n",
            "Epoch 43/50\n",
            "25/25 [==============================] - 1s 25ms/step - loss: 0.0208 - accuracy: 0.9893 - val_loss: 0.2154 - val_accuracy: 0.9423\n",
            "Epoch 44/50\n",
            "25/25 [==============================] - 1s 25ms/step - loss: 0.0304 - accuracy: 0.9849 - val_loss: 0.1275 - val_accuracy: 0.9615\n",
            "Epoch 45/50\n",
            "25/25 [==============================] - 1s 25ms/step - loss: 0.0086 - accuracy: 0.9968 - val_loss: 0.1203 - val_accuracy: 0.9615\n",
            "Epoch 46/50\n",
            "25/25 [==============================] - 1s 25ms/step - loss: 0.0096 - accuracy: 0.9947 - val_loss: 0.1171 - val_accuracy: 0.9654\n",
            "Epoch 47/50\n",
            "25/25 [==============================] - 1s 25ms/step - loss: 0.0050 - accuracy: 0.9988 - val_loss: 0.1175 - val_accuracy: 0.9654\n",
            "Epoch 48/50\n",
            "25/25 [==============================] - 1s 25ms/step - loss: 0.0056 - accuracy: 0.9971 - val_loss: 0.1488 - val_accuracy: 0.9654\n",
            "Epoch 49/50\n",
            "25/25 [==============================] - 1s 25ms/step - loss: 0.0039 - accuracy: 0.9985 - val_loss: 0.1173 - val_accuracy: 0.9654\n",
            "Epoch 50/50\n",
            "25/25 [==============================] - 1s 25ms/step - loss: 0.0028 - accuracy: 0.9993 - val_loss: 0.1303 - val_accuracy: 0.9615\n"
          ],
          "name": "stdout"
        }
      ]
    },
    {
      "cell_type": "markdown",
      "metadata": {
        "id": "T7l8U8Tk-3Dy"
      },
      "source": [
        "**Plot the Training Loss and Accuracy**"
      ]
    },
    {
      "cell_type": "code",
      "metadata": {
        "colab": {
          "base_uri": "https://localhost:8080/",
          "height": 541
        },
        "id": "-P3oMEP5--t6",
        "outputId": "40cc18a1-64bc-4d81-a34f-daff091f4a0c"
      },
      "source": [
        "from matplotlib import pyplot as plt\n",
        "# Plot Training and Validation Loss\n",
        "plt.plot(fitted_model.history['loss'],'r',label='training loss')\n",
        "plt.plot(fitted_model.history['val_loss'],label='validation loss')\n",
        "plt.xlabel('Number of Epochs')\n",
        "plt.ylabel('Loss Value')\n",
        "plt.legend()\n",
        "plt.show()\n",
        "\n",
        "# Plot Training and Validation Accuracy\n",
        "plt.plot(fitted_model.history['accuracy'],'r',label='training accuracy')\n",
        "plt.plot(fitted_model.history['val_accuracy'],label='validation accuracy')\n",
        "plt.xlabel('Number of Epochs')\n",
        "plt.ylabel('Accuracy Value')\n",
        "plt.legend()\n",
        "plt.show()"
      ],
      "execution_count": null,
      "outputs": [
        {
          "output_type": "display_data",
          "data": {
            "image/png": "[encoded data removed]",
            "text/plain": [
              "<Figure size 432x288 with 1 Axes>"
            ]
          },
          "metadata": {
            "tags": [],
            "needs_background": "light"
          }
        },
        {
          "output_type": "display_data",
          "data": {
            "image/png": "[encoded data removed]",
            "text/plain": [
              "<Figure size 432x288 with 1 Axes>"
            ]
          },
          "metadata": {
            "tags": [],
            "needs_background": "light"
          }
        }
      ]
    },
    {
      "cell_type": "markdown",
      "metadata": {
        "id": "H_NHtAeHB7rr"
      },
      "source": [
        "**Save or Serialize the Model**"
      ]
    },
    {
      "cell_type": "code",
      "metadata": {
        "id": "W2LFq0m3CCAF"
      },
      "source": [
        "# Save or Serialize the model with the name face_mask_detection_using_cnn\n",
        "model.save('face_mask_detection_using_cnn.h5')"
      ],
      "execution_count": null,
      "outputs": []
    },
    {
      "cell_type": "code",
      "metadata": {
        "id": "ycVzoGTxCSBG"
      },
      "source": [
        ""
      ],
      "execution_count": null,
      "outputs": []
    }
  ]
}